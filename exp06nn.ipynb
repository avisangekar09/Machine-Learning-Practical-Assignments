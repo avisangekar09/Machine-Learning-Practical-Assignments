{
  "nbformat": 4,
  "nbformat_minor": 0,
  "metadata": {
    "colab": {
      "provenance": []
    },
    "kernelspec": {
      "name": "python3",
      "display_name": "Python 3"
    },
    "language_info": {
      "name": "python"
    }
  },
  "cells": [
    {
      "cell_type": "code",
      "execution_count": 2,
      "metadata": {
        "id": "UC6xizokXl3h"
      },
      "outputs": [],
      "source": [
        "import numpy as np\n",
        "X=np.array([[1,0,1,0],[1,0,1,1],[0,1,0,1]])\n",
        "y=np.array([[1],[1],[0]])\n",
        "def sigmoid (x):\n",
        " return 1/(1 + np.exp(-x))\n",
        "def derivatives_sigmoid(x):\n",
        " return x * (1 - x)"
      ]
    },
    {
      "cell_type": "code",
      "source": [
        "epoch=5000 #Setting training iterations\n",
        "lr=0.1 #Setting learning rate\n",
        "inputlayer_neurons = X.shape[1] #number of features in data set\n",
        "hiddenlayer_neurons = 3 #number of hidden layers neurons\n",
        "output_neurons = 1 #number of neurons at output layer\n",
        "wh=np.random.uniform(size=(inputlayer_neurons,hiddenlayer_neurons))\n",
        "bh=np.random.uniform(size=(1,hiddenlayer_neurons))\n",
        "wout=np.random.uniform(size=(hiddenlayer_neurons,output_neurons))\n",
        "bout=np.random.uniform(size=(1,output_neurons))"
      ],
      "metadata": {
        "id": "O_GESa2zayCV"
      },
      "execution_count": 3,
      "outputs": []
    },
    {
      "cell_type": "code",
      "source": [
        "hidden_layer_input1=np.dot(X,wh)\n",
        "hidden_layer_input=hidden_layer_input1 + bh\n",
        "hiddenlayer_activations = sigmoid(hidden_layer_input)\n",
        "output_layer_input1=np.dot(hiddenlayer_activations,wout)\n",
        "output_layer_input= output_layer_input1+ bout\n",
        "output = sigmoid(output_layer_input)"
      ],
      "metadata": {
        "id": "RCMcIbuoa0F0"
      },
      "execution_count": 4,
      "outputs": []
    },
    {
      "cell_type": "code",
      "source": [
        "E = y-output\n",
        "slope_output_layer = derivatives_sigmoid(output)\n",
        "slope_hidden_layer = derivatives_sigmoid(hiddenlayer_activations)\n",
        "d_output = E * slope_output_layer\n",
        "Error_at_hidden_layer = d_output.dot(wout.T)\n",
        "d_hiddenlayer = Error_at_hidden_layer * slope_hidden_layer\n",
        "wout += hiddenlayer_activations.T.dot(d_output) *lr\n",
        "bout += np.sum(d_output, axis=0,keepdims=True) *lr\n",
        "wh += X.T.dot(d_hiddenlayer) *lr\n",
        "bh += np.sum(d_hiddenlayer, axis=0,keepdims=True) *lr\n",
        "print (output)"
      ],
      "metadata": {
        "colab": {
          "base_uri": "https://localhost:8080/"
        },
        "id": "kb8zQcgua6wa",
        "outputId": "7c1a672c-7f40-4d97-ba7c-9b96928a3f18"
      },
      "execution_count": 5,
      "outputs": [
        {
          "output_type": "stream",
          "name": "stdout",
          "text": [
            "[[0.74014153]\n",
            " [0.74857497]\n",
            " [0.73970732]]\n"
          ]
        }
      ]
    }
  ]
}