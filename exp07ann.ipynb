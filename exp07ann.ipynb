{
  "nbformat": 4,
  "nbformat_minor": 0,
  "metadata": {
    "colab": {
      "provenance": []
    },
    "kernelspec": {
      "name": "python3",
      "display_name": "Python 3"
    },
    "language_info": {
      "name": "python"
    }
  },
  "cells": [
    {
      "cell_type": "code",
      "execution_count": 1,
      "metadata": {
        "id": "ZX_mEAmlbwF1"
      },
      "outputs": [],
      "source": [
        "import pandas as pd\n",
        "import numpy as np\n",
        "import matplotlib.pyplot as plt\n",
        "import tensorflow as tf\n",
        "from tensorflow import keras"
      ]
    },
    {
      "cell_type": "code",
      "source": [
        "digit_mnist = keras.datasets.mnist\n",
        "(x_train_full, y_train_full), (x_test, y_test) = digit_mnist.load_data()"
      ],
      "metadata": {
        "colab": {
          "base_uri": "https://localhost:8080/"
        },
        "id": "hN3G8tS6cCZc",
        "outputId": "ea36a15f-43a2-4a86-ef89-f07a19cb73c6"
      },
      "execution_count": 3,
      "outputs": [
        {
          "output_type": "stream",
          "name": "stdout",
          "text": [
            "Downloading data from https://storage.googleapis.com/tensorflow/tf-keras-datasets/mnist.npz\n",
            "11490434/11490434 [==============================] - 0s 0us/step\n"
          ]
        }
      ]
    },
    {
      "cell_type": "code",
      "source": [
        "x_train_full.shape"
      ],
      "metadata": {
        "colab": {
          "base_uri": "https://localhost:8080/"
        },
        "id": "v_6HjO_1cNDU",
        "outputId": "005851a3-e813-46c4-c3ed-208c3c0326ed"
      },
      "execution_count": 4,
      "outputs": [
        {
          "output_type": "execute_result",
          "data": {
            "text/plain": [
              "(60000, 28, 28)"
            ]
          },
          "metadata": {},
          "execution_count": 4
        }
      ]
    },
    {
      "cell_type": "code",
      "source": [
        "plt.imshow(x_train_full[1])"
      ],
      "metadata": {
        "colab": {
          "base_uri": "https://localhost:8080/",
          "height": 447
        },
        "id": "aJcQowRDclGW",
        "outputId": "544c531f-5729-4050-b22a-f49ebf1dce24"
      },
      "execution_count": 5,
      "outputs": [
        {
          "output_type": "execute_result",
          "data": {
            "text/plain": [
              "<matplotlib.image.AxesImage at 0x7dec424d8a30>"
            ]
          },
          "metadata": {},
          "execution_count": 5
        },
        {
          "output_type": "display_data",
          "data": {
            "text/plain": [
              "<Figure size 640x480 with 1 Axes>"
            ],
            "image/png": "[encoded data removed]"
          },
          "metadata": {}
        }
      ]
    },
    {
      "cell_type": "code",
      "source": [
        "x_train_n=x_train_full/255\n",
        "x_test_n=x_test/255\n",
        "\n",
        "x_valid,x_train=x_train_n[:6000],x_train_n[6000:]\n",
        "y_valid,y_train=y_train_full[:6000],y_train_full[6000:]\n",
        "x_test=x_test_n\n",
        "\n",
        "np.random.seed(42)\n",
        "tf.random.set_seed(42)"
      ],
      "metadata": {
        "id": "SgVeR7JscyPt"
      },
      "execution_count": 6,
      "outputs": []
    },
    {
      "cell_type": "code",
      "source": [
        "# Model Building\n",
        "model = keras.models.Sequential()\n",
        "model.add(keras.layers.Flatten(input_shape=[28,28]))\n",
        "model.add(keras.layers.Dense(200,activation='relu'))\n",
        "model.add(keras.layers.Dense(100,activation='relu'))\n",
        "model.add(keras.layers.Dense(10,activation='softmax'))"
      ],
      "metadata": {
        "id": "Nn6jnoNVc_Av"
      },
      "execution_count": 7,
      "outputs": []
    },
    {
      "cell_type": "code",
      "source": [
        "model.compile(loss='sparse_categorical_crossentropy',\n",
        "             metrics=['accuracy'],\n",
        "             optimizer = 'sgd')"
      ],
      "metadata": {
        "id": "O_p1lyVcdRX3"
      },
      "execution_count": 9,
      "outputs": []
    },
    {
      "cell_type": "code",
      "source": [
        "model.evaluate(x_test,y_test)"
      ],
      "metadata": {
        "colab": {
          "base_uri": "https://localhost:8080/"
        },
        "id": "JOWTmVQudlxL",
        "outputId": "205f9ba7-6ad6-40a9-f83e-3e4168c58c5e"
      },
      "execution_count": 11,
      "outputs": [
        {
          "output_type": "stream",
          "name": "stdout",
          "text": [
            "313/313 [==============================] - 2s 8ms/step - loss: 0.0702 - accuracy: 0.9785\n"
          ]
        },
        {
          "output_type": "execute_result",
          "data": {
            "text/plain": [
              "[0.07016631960868835, 0.9785000085830688]"
            ]
          },
          "metadata": {},
          "execution_count": 11
        }
      ]
    },
    {
      "cell_type": "code",
      "source": [
        "model_r = model.fit(x_train,y_train,epochs=60,\n",
        "                         validation_data=(x_valid,y_valid))"
      ],
      "metadata": {
        "colab": {
          "base_uri": "https://localhost:8080/"
        },
        "id": "_-ubNd-1fJNN",
        "outputId": "d079e00a-0621-481d-ff19-191827bbed74"
      },
      "execution_count": 13,
      "outputs": [
        {
          "output_type": "stream",
          "name": "stdout",
          "text": [
            "Epoch 1/60\n",
            "1688/1688 [==============================] - 8s 4ms/step - loss: 0.0136 - accuracy: 0.9983 - val_loss: 0.0702 - val_accuracy: 0.9795\n",
            "Epoch 2/60\n",
            "1688/1688 [==============================] - 7s 4ms/step - loss: 0.0128 - accuracy: 0.9985 - val_loss: 0.0728 - val_accuracy: 0.9793\n",
            "Epoch 3/60\n",
            "1688/1688 [==============================] - 7s 4ms/step - loss: 0.0125 - accuracy: 0.9984 - val_loss: 0.0705 - val_accuracy: 0.9795\n",
            "Epoch 4/60\n",
            "1688/1688 [==============================] - 8s 5ms/step - loss: 0.0118 - accuracy: 0.9986 - val_loss: 0.0707 - val_accuracy: 0.9800\n",
            "Epoch 5/60\n",
            "1688/1688 [==============================] - 6s 4ms/step - loss: 0.0113 - accuracy: 0.9989 - val_loss: 0.0723 - val_accuracy: 0.9797\n",
            "Epoch 6/60\n",
            "1688/1688 [==============================] - 8s 5ms/step - loss: 0.0109 - accuracy: 0.9987 - val_loss: 0.0698 - val_accuracy: 0.9805\n",
            "Epoch 7/60\n",
            "1688/1688 [==============================] - 6s 4ms/step - loss: 0.0104 - accuracy: 0.9990 - val_loss: 0.0707 - val_accuracy: 0.9800\n",
            "Epoch 8/60\n",
            "1688/1688 [==============================] - 8s 5ms/step - loss: 0.0100 - accuracy: 0.9991 - val_loss: 0.0710 - val_accuracy: 0.9803\n",
            "Epoch 9/60\n",
            "1688/1688 [==============================] - 6s 4ms/step - loss: 0.0095 - accuracy: 0.9992 - val_loss: 0.0718 - val_accuracy: 0.9803\n",
            "Epoch 10/60\n",
            "1688/1688 [==============================] - 8s 5ms/step - loss: 0.0091 - accuracy: 0.9992 - val_loss: 0.0719 - val_accuracy: 0.9792\n",
            "Epoch 11/60\n",
            "1688/1688 [==============================] - 7s 4ms/step - loss: 0.0088 - accuracy: 0.9992 - val_loss: 0.0710 - val_accuracy: 0.9805\n",
            "Epoch 12/60\n",
            "1688/1688 [==============================] - 8s 5ms/step - loss: 0.0084 - accuracy: 0.9993 - val_loss: 0.0727 - val_accuracy: 0.9793\n",
            "Epoch 13/60\n",
            "1688/1688 [==============================] - 6s 4ms/step - loss: 0.0081 - accuracy: 0.9994 - val_loss: 0.0704 - val_accuracy: 0.9800\n",
            "Epoch 14/60\n",
            "1688/1688 [==============================] - 8s 5ms/step - loss: 0.0078 - accuracy: 0.9995 - val_loss: 0.0711 - val_accuracy: 0.9805\n",
            "Epoch 15/60\n",
            "1688/1688 [==============================] - 6s 3ms/step - loss: 0.0075 - accuracy: 0.9995 - val_loss: 0.0729 - val_accuracy: 0.9793\n",
            "Epoch 16/60\n",
            "1688/1688 [==============================] - 8s 4ms/step - loss: 0.0072 - accuracy: 0.9996 - val_loss: 0.0714 - val_accuracy: 0.9807\n",
            "Epoch 17/60\n",
            "1688/1688 [==============================] - 6s 4ms/step - loss: 0.0070 - accuracy: 0.9996 - val_loss: 0.0731 - val_accuracy: 0.9785\n",
            "Epoch 18/60\n",
            "1688/1688 [==============================] - 7s 4ms/step - loss: 0.0067 - accuracy: 0.9996 - val_loss: 0.0723 - val_accuracy: 0.9790\n",
            "Epoch 19/60\n",
            "1688/1688 [==============================] - 6s 4ms/step - loss: 0.0065 - accuracy: 0.9997 - val_loss: 0.0728 - val_accuracy: 0.9792\n",
            "Epoch 20/60\n",
            "1688/1688 [==============================] - 7s 4ms/step - loss: 0.0063 - accuracy: 0.9996 - val_loss: 0.0731 - val_accuracy: 0.9803\n",
            "Epoch 21/60\n",
            "1688/1688 [==============================] - 6s 4ms/step - loss: 0.0060 - accuracy: 0.9997 - val_loss: 0.0745 - val_accuracy: 0.9780\n",
            "Epoch 22/60\n",
            "1688/1688 [==============================] - 7s 4ms/step - loss: 0.0059 - accuracy: 0.9998 - val_loss: 0.0734 - val_accuracy: 0.9802\n",
            "Epoch 23/60\n",
            "1688/1688 [==============================] - 7s 4ms/step - loss: 0.0056 - accuracy: 0.9997 - val_loss: 0.0743 - val_accuracy: 0.9797\n",
            "Epoch 24/60\n",
            "1688/1688 [==============================] - 7s 4ms/step - loss: 0.0054 - accuracy: 0.9998 - val_loss: 0.0741 - val_accuracy: 0.9790\n",
            "Epoch 25/60\n",
            "1688/1688 [==============================] - 7s 4ms/step - loss: 0.0052 - accuracy: 0.9999 - val_loss: 0.0735 - val_accuracy: 0.9800\n",
            "Epoch 26/60\n",
            "1688/1688 [==============================] - 7s 4ms/step - loss: 0.0051 - accuracy: 0.9998 - val_loss: 0.0742 - val_accuracy: 0.9800\n",
            "Epoch 27/60\n",
            "1688/1688 [==============================] - 8s 5ms/step - loss: 0.0049 - accuracy: 0.9998 - val_loss: 0.0734 - val_accuracy: 0.9798\n",
            "Epoch 28/60\n",
            "1688/1688 [==============================] - 8s 5ms/step - loss: 0.0048 - accuracy: 0.9998 - val_loss: 0.0734 - val_accuracy: 0.9797\n",
            "Epoch 29/60\n",
            "1688/1688 [==============================] - 8s 5ms/step - loss: 0.0046 - accuracy: 0.9999 - val_loss: 0.0737 - val_accuracy: 0.9798\n",
            "Epoch 30/60\n",
            "1688/1688 [==============================] - 7s 4ms/step - loss: 0.0045 - accuracy: 0.9999 - val_loss: 0.0742 - val_accuracy: 0.9797\n",
            "Epoch 31/60\n",
            "1688/1688 [==============================] - 8s 5ms/step - loss: 0.0043 - accuracy: 0.9999 - val_loss: 0.0733 - val_accuracy: 0.9798\n",
            "Epoch 32/60\n",
            "1688/1688 [==============================] - 7s 4ms/step - loss: 0.0042 - accuracy: 0.9999 - val_loss: 0.0742 - val_accuracy: 0.9802\n",
            "Epoch 33/60\n",
            "1688/1688 [==============================] - 8s 4ms/step - loss: 0.0041 - accuracy: 0.9999 - val_loss: 0.0744 - val_accuracy: 0.9793\n",
            "Epoch 34/60\n",
            "1688/1688 [==============================] - 7s 4ms/step - loss: 0.0040 - accuracy: 0.9999 - val_loss: 0.0758 - val_accuracy: 0.9792\n",
            "Epoch 35/60\n",
            "1688/1688 [==============================] - 8s 5ms/step - loss: 0.0038 - accuracy: 0.9999 - val_loss: 0.0740 - val_accuracy: 0.9802\n",
            "Epoch 36/60\n",
            "1688/1688 [==============================] - 6s 4ms/step - loss: 0.0037 - accuracy: 0.9999 - val_loss: 0.0758 - val_accuracy: 0.9798\n",
            "Epoch 37/60\n",
            "1688/1688 [==============================] - 7s 4ms/step - loss: 0.0037 - accuracy: 0.9999 - val_loss: 0.0750 - val_accuracy: 0.9793\n",
            "Epoch 38/60\n",
            "1688/1688 [==============================] - 6s 4ms/step - loss: 0.0035 - accuracy: 0.9999 - val_loss: 0.0755 - val_accuracy: 0.9797\n",
            "Epoch 39/60\n",
            "1688/1688 [==============================] - 7s 4ms/step - loss: 0.0034 - accuracy: 0.9999 - val_loss: 0.0757 - val_accuracy: 0.9795\n",
            "Epoch 40/60\n",
            "1688/1688 [==============================] - 6s 3ms/step - loss: 0.0033 - accuracy: 0.9999 - val_loss: 0.0758 - val_accuracy: 0.9797\n",
            "Epoch 41/60\n",
            "1688/1688 [==============================] - 7s 4ms/step - loss: 0.0033 - accuracy: 0.9999 - val_loss: 0.0758 - val_accuracy: 0.9803\n",
            "Epoch 42/60\n",
            "1688/1688 [==============================] - 6s 4ms/step - loss: 0.0032 - accuracy: 0.9999 - val_loss: 0.0762 - val_accuracy: 0.9798\n",
            "Epoch 43/60\n",
            "1688/1688 [==============================] - 8s 4ms/step - loss: 0.0031 - accuracy: 0.9999 - val_loss: 0.0766 - val_accuracy: 0.9795\n",
            "Epoch 44/60\n",
            "1688/1688 [==============================] - 7s 4ms/step - loss: 0.0030 - accuracy: 1.0000 - val_loss: 0.0765 - val_accuracy: 0.9790\n",
            "Epoch 45/60\n",
            "1688/1688 [==============================] - 7s 4ms/step - loss: 0.0029 - accuracy: 1.0000 - val_loss: 0.0760 - val_accuracy: 0.9797\n",
            "Epoch 46/60\n",
            "1688/1688 [==============================] - 6s 4ms/step - loss: 0.0029 - accuracy: 1.0000 - val_loss: 0.0761 - val_accuracy: 0.9798\n",
            "Epoch 47/60\n",
            "1688/1688 [==============================] - 7s 4ms/step - loss: 0.0028 - accuracy: 1.0000 - val_loss: 0.0763 - val_accuracy: 0.9800\n",
            "Epoch 48/60\n",
            "1688/1688 [==============================] - 6s 4ms/step - loss: 0.0027 - accuracy: 1.0000 - val_loss: 0.0764 - val_accuracy: 0.9802\n",
            "Epoch 49/60\n",
            "1688/1688 [==============================] - 7s 4ms/step - loss: 0.0027 - accuracy: 1.0000 - val_loss: 0.0768 - val_accuracy: 0.9803\n",
            "Epoch 50/60\n",
            "1688/1688 [==============================] - 6s 4ms/step - loss: 0.0026 - accuracy: 1.0000 - val_loss: 0.0778 - val_accuracy: 0.9793\n",
            "Epoch 51/60\n",
            "1688/1688 [==============================] - 7s 4ms/step - loss: 0.0026 - accuracy: 1.0000 - val_loss: 0.0765 - val_accuracy: 0.9803\n",
            "Epoch 52/60\n",
            "1688/1688 [==============================] - 7s 4ms/step - loss: 0.0025 - accuracy: 1.0000 - val_loss: 0.0765 - val_accuracy: 0.9800\n",
            "Epoch 53/60\n",
            "1688/1688 [==============================] - 7s 4ms/step - loss: 0.0025 - accuracy: 1.0000 - val_loss: 0.0773 - val_accuracy: 0.9802\n",
            "Epoch 54/60\n",
            "1688/1688 [==============================] - 7s 4ms/step - loss: 0.0024 - accuracy: 1.0000 - val_loss: 0.0766 - val_accuracy: 0.9797\n",
            "Epoch 55/60\n",
            "1688/1688 [==============================] - 7s 4ms/step - loss: 0.0024 - accuracy: 1.0000 - val_loss: 0.0773 - val_accuracy: 0.9800\n",
            "Epoch 56/60\n",
            "1688/1688 [==============================] - 7s 4ms/step - loss: 0.0023 - accuracy: 1.0000 - val_loss: 0.0770 - val_accuracy: 0.9798\n",
            "Epoch 57/60\n",
            "1688/1688 [==============================] - 7s 4ms/step - loss: 0.0023 - accuracy: 1.0000 - val_loss: 0.0779 - val_accuracy: 0.9813\n",
            "Epoch 58/60\n",
            "1688/1688 [==============================] - 7s 4ms/step - loss: 0.0022 - accuracy: 1.0000 - val_loss: 0.0773 - val_accuracy: 0.9805\n",
            "Epoch 59/60\n",
            "1688/1688 [==============================] - 6s 4ms/step - loss: 0.0022 - accuracy: 1.0000 - val_loss: 0.0781 - val_accuracy: 0.9808\n",
            "Epoch 60/60\n",
            "1688/1688 [==============================] - 8s 5ms/step - loss: 0.0021 - accuracy: 1.0000 - val_loss: 0.0781 - val_accuracy: 0.9800\n"
          ]
        }
      ]
    },
    {
      "cell_type": "code",
      "source": [
        "# Val-loss\n",
        "pd.DataFrame(model_r.history).plot(figsize=(8,5))\n",
        "plt.grid(True)\n",
        "plt.gca().set_ylim(0,1)\n",
        "plt.show()"
      ],
      "metadata": {
        "colab": {
          "base_uri": "https://localhost:8080/",
          "height": 451
        },
        "id": "y8WlZP-EfoxG",
        "outputId": "b9def330-29c1-4d04-9a9e-e5553860b3b9"
      },
      "execution_count": 14,
      "outputs": [
        {
          "output_type": "display_data",
          "data": {
            "text/plain": [
              "<Figure size 800x500 with 1 Axes>"
            ],
            "image/png": "[encoded data removed]"
          },
          "metadata": {}
        }
      ]
    },
    {
      "cell_type": "code",
      "source": [
        "x_new=x_test[:5]\n",
        "y_prob = model.predict(x_new)\n",
        "y_prob.round(2)"
      ],
      "metadata": {
        "colab": {
          "base_uri": "https://localhost:8080/"
        },
        "id": "Efq9fooshaMt",
        "outputId": "6f687f90-8520-4cbc-8747-e1c473436224"
      },
      "execution_count": 15,
      "outputs": [
        {
          "output_type": "stream",
          "name": "stdout",
          "text": [
            "1/1 [==============================] - 0s 107ms/step\n"
          ]
        },
        {
          "output_type": "execute_result",
          "data": {
            "text/plain": [
              "array([[0., 0., 0., 0., 0., 0., 0., 1., 0., 0.],\n",
              "       [0., 0., 1., 0., 0., 0., 0., 0., 0., 0.],\n",
              "       [0., 1., 0., 0., 0., 0., 0., 0., 0., 0.],\n",
              "       [1., 0., 0., 0., 0., 0., 0., 0., 0., 0.],\n",
              "       [0., 0., 0., 0., 1., 0., 0., 0., 0., 0.]], dtype=float32)"
            ]
          },
          "metadata": {},
          "execution_count": 15
        }
      ]
    },
    {
      "cell_type": "code",
      "source": [
        "predict_x = model.predict(x_new)\n",
        "classes_x=np.argmax(predict_x,axis=1)"
      ],
      "metadata": {
        "colab": {
          "base_uri": "https://localhost:8080/"
        },
        "id": "fojD43S9hnwp",
        "outputId": "857a78cd-386f-4bf1-a8ce-99f0f56ab57c"
      },
      "execution_count": 16,
      "outputs": [
        {
          "output_type": "stream",
          "name": "stdout",
          "text": [
            "1/1 [==============================] - 0s 41ms/step\n"
          ]
        }
      ]
    },
    {
      "cell_type": "code",
      "source": [
        "classes_x"
      ],
      "metadata": {
        "colab": {
          "base_uri": "https://localhost:8080/"
        },
        "id": "stwxJu33hrKi",
        "outputId": "749cfb6c-4c2b-4e85-f274-dbdb80245bb6"
      },
      "execution_count": 18,
      "outputs": [
        {
          "output_type": "execute_result",
          "data": {
            "text/plain": [
              "array([7, 2, 1, 0, 4])"
            ]
          },
          "metadata": {},
          "execution_count": 18
        }
      ]
    }
  ]
}